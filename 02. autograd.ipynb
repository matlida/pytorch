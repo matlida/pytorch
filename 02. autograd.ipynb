{
 "cells": [
  {
   "cell_type": "code",
   "execution_count": 1,
   "metadata": {},
   "outputs": [],
   "source": [
    "# 1） 如何用pytorch 自动计算梯度并使用梯度下降法进行寻找最优解\n",
    "# 2） 使用numpy如何计算梯度"
   ]
  },
  {
   "cell_type": "code",
   "execution_count": 33,
   "metadata": {},
   "outputs": [
    {
     "name": "stdout",
     "output_type": "stream",
     "text": [
      "tensor([ 1.4249,  1.5390, -1.2503], requires_grad=True)\n",
      "tensor([3.4249, 3.5390, 0.7497], grad_fn=<AddBackward0>)\n",
      "tensor([ 2.8498,  3.0780, -2.5006], grad_fn=<MulBackward0>)\n",
      "tensor([4.0607, 4.7371, 3.1265], grad_fn=<MulBackward0>)\n"
     ]
    }
   ],
   "source": [
    "import torch\n",
    "\n",
    "x = torch.randn(3,requires_grad = True)\n",
    "print(x)\n",
    "y  = x+2 \n",
    "print(y)\n",
    "y1 = x*2\n",
    "print(y1)\n",
    "y2 = x*x*2\n",
    "\n",
    "print(y2)\n",
    "# 如果我们需要计算梯度的话，只需要在参数中使用 requires_grad = True \n",
    "# 并且可以看到如果使用的是加法，那么梯度记录的是grad_fn=<AddBackward0>\n",
    "# 如果使用的是乘法，那么梯度记录的是grad_fn=<MulBackward0>\n"
   ]
  },
  {
   "cell_type": "code",
   "execution_count": 27,
   "metadata": {},
   "outputs": [
    {
     "name": "stdout",
     "output_type": "stream",
     "text": [
      "tensor([-2.2168,  0.1898,  1.4724], requires_grad=True)\n",
      "tensor([0.3333, 0.3333, 0.3333])\n",
      "tensor([-0.5534,  1.0924,  0.3392])\n"
     ]
    }
   ],
   "source": [
    "print(x)\n",
    "y3 = x.mean()\n",
    "y3.backward() # dz/dx\n",
    "print(x.grad)\n",
    "# 这里我们调用的是自带的mean方法，所以可以直接使用要y3.backward()\n",
    "# 如果不是一些内置的函数，那么需要给他一个取值，才可以使用backward，eg上述的y2的函数\n",
    "y4 = torch.tensor([0.1,1.0,0.001],dtype = torch.float32)\n",
    "y2.backward(y4)\n",
    "print(x.grad)"
   ]
  },
  {
   "cell_type": "code",
   "execution_count": 38,
   "metadata": {},
   "outputs": [
    {
     "name": "stdout",
     "output_type": "stream",
     "text": [
      "tensor([-0.2977,  0.9836, -1.7483], requires_grad=True)\n",
      "tensor([-0.2977,  0.9836, -1.7483])\n",
      "tensor([-0.2977,  0.9836, -1.7483])\n",
      "tensor([1.7023, 2.9836, 0.2517])\n",
      "tensor([1.2402, 3.0584, 1.7641], grad_fn=<AddBackward0>)\n"
     ]
    }
   ],
   "source": [
    "#   如何取消tracing 梯度\n",
    "\n",
    "x = torch.randn(3,requires_grad = True)\n",
    "print(x)\n",
    "# 方法一 ：设置requires_grad_(False)\n",
    "x.requires_grad_(False)\n",
    "print(x)\n",
    "# 可以看到x已经不再带有requires_grad = True,这是直接修改x的\n",
    "# 方法二 ： x.detach()\n",
    "z = x.detach()\n",
    "print(z)\n",
    "# 可以看到z已经不再带有requires_grad = True,这里不是直接修改x的\n",
    "# 方法三 ： with torch.no_grad():\n",
    "with torch.no_grad():\n",
    "    y = x+2\n",
    "    print(y)\n",
    "# 可以看到这里y已经不再带有requires_grad = True\n",
    "\n",
    "# 再来验证一下如果不使用 with torch.no_grad():,查看一下y 还是会tracing 梯度的\n",
    "x = torch.randn(3,requires_grad = True)\n",
    "y = x+2\n",
    "print(y)\n"
   ]
  },
  {
   "cell_type": "code",
   "execution_count": 43,
   "metadata": {},
   "outputs": [
    {
     "name": "stdout",
     "output_type": "stream",
     "text": [
      "tensor([3., 3., 3., 3.])\n",
      "==============\n",
      "tensor([3., 3., 3., 3.])\n",
      "tensor([6., 6., 6., 6.])\n",
      "==============\n",
      "tensor([3., 3., 3., 3.])\n",
      "tensor([6., 6., 6., 6.])\n",
      "tensor([9., 9., 9., 9.])\n",
      "==============\n"
     ]
    }
   ],
   "source": [
    "# 需要注意的是梯度迭代相加的问题，可以看到在每循环一次梯度都会增加\n",
    "\n",
    "weights = torch.ones(4,requires_grad=True)\n",
    "for epoch in range(1):\n",
    "    model_outputs = (weights * 3).sum()\n",
    "    model_outputs.backward()\n",
    "    print(weights.grad)\n",
    "print('==============')\n",
    "\n",
    "weights = torch.ones(4,requires_grad=True)\n",
    "for epoch in range(2):\n",
    "    model_outputs = (weights * 3).sum()\n",
    "    model_outputs.backward()\n",
    "    print(weights.grad)\n",
    "print('==============')\n",
    "\n",
    "weights = torch.ones(4,requires_grad=True)\n",
    "for epoch in range(3):\n",
    "    model_outputs = (weights * 3).sum()\n",
    "    model_outputs.backward()\n",
    "    print(weights.grad)\n",
    "print('==============')"
   ]
  },
  {
   "cell_type": "code",
   "execution_count": 9,
   "metadata": {},
   "outputs": [
    {
     "name": "stdout",
     "output_type": "stream",
     "text": [
      "tensor([3., 3., 3., 3.])\n",
      "==============\n",
      "tensor([3., 3., 3., 3.])\n",
      "tensor([3., 3., 3., 3.])\n",
      "==============\n",
      "tensor([3., 3., 3., 3.])\n",
      "tensor([3., 3., 3., 3.])\n",
      "tensor([3., 3., 3., 3.])\n",
      "==============\n"
     ]
    }
   ],
   "source": [
    "# 为了避免上面的情况，我们需要在每次计算完梯度之后把梯度清空,这样就会看到我们的提速就是正确的了\n",
    "import torch\n",
    "weights = torch.ones(4,requires_grad=True)\n",
    "for epoch in range(1):\n",
    "    model_outputs = (weights * 3).sum()\n",
    "    model_outputs.backward()\n",
    "    print(weights.grad)   \n",
    "print('==============')\n",
    "\n",
    "weights = torch.ones(4,requires_grad=True)\n",
    "for epoch in range(2):\n",
    "    model_outputs = (weights * 3).sum()\n",
    "    model_outputs.backward()\n",
    "    print(weights.grad)\n",
    "    weights.grad.zero_()\n",
    "   \n",
    "print('==============')\n",
    "\n",
    "weights = torch.ones(4,requires_grad=True)\n",
    "for epoch in range(3):\n",
    "    model_outputs = (weights * 3).sum()\n",
    "    model_outputs.backward()\n",
    "    print(weights.grad)\n",
    "    weights.grad.zero_()\n",
    "print('==============')"
   ]
  },
  {
   "cell_type": "code",
   "execution_count": null,
   "metadata": {},
   "outputs": [],
   "source": []
  }
 ],
 "metadata": {
  "kernelspec": {
   "display_name": "Python 3",
   "language": "python",
   "name": "python3"
  },
  "language_info": {
   "codemirror_mode": {
    "name": "ipython",
    "version": 3
   },
   "file_extension": ".py",
   "mimetype": "text/x-python",
   "name": "python",
   "nbconvert_exporter": "python",
   "pygments_lexer": "ipython3",
   "version": "3.10.4"
  },
  "orig_nbformat": 4,
  "vscode": {
   "interpreter": {
    "hash": "49fca704c6919c58f6aea1e6d1baec6a2f11de6394a6e4f591f27d75015a902f"
   }
  }
 },
 "nbformat": 4,
 "nbformat_minor": 2
}
